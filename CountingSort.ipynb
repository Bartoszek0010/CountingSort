{
 "cells": [
  {
   "cell_type": "markdown",
   "metadata": {},
   "source": [
    "Counting Sort - sorting algorythm, good for arrays with small range of data"
   ]
  },
  {
   "cell_type": "code",
   "execution_count": 2,
   "metadata": {},
   "outputs": [],
   "source": [
    "def countingSort(arr,rng):\n",
    "    tempArr = [0] * (rng + 1) # create array with indexes from 0-max(array) e.g. [1,5,4,2] --> tempArr = [0,0,0,0,0,0]\n",
    "    for i in arr: # count all nums in unsorted arr => in tempArr at index equals to num from  unsorted array add 1\n",
    "        tempArr[i] += 1\n",
    "    for i in range(len(tempArr) - 1): # array[i + 1] = array[i] + array[i + 1], so to num at index n add num at index\n",
    "        tempArr[i + 1] += tempArr[i]  # n-1 (this is algorythm)\n",
    "    solArr = [0] * len(arr) # create solution array of lenght equals to unsorted array\n",
    "    for i in arr: # in this loop get num from unsorted array and put it to solution array at index equals count of this\n",
    "        solArr[tempArr[i] - 1] = i # nums from tempArr and add -1 to counter of selected num from unsorted arr \n",
    "        tempArr[i] -= 1 # (e.g. for unsorted array = [4,2,1] we will have tempArr = [0,1,2,2,3], so we get a num from \n",
    "    return solArr       # unsorted array = 4 add get the count from tempArr = 3 and put to solution array num = 4 at \n",
    "                        # index = 3 - 1 (3 is from temp array) and -1 to count from tempArr at index = 4 [tempArr = \n",
    "                        # [0,1,2,2,2]"
   ]
  },
  {
   "cell_type": "code",
   "execution_count": 3,
   "metadata": {},
   "outputs": [
    {
     "data": {
      "text/plain": [
       "[1, 1, 2, 2, 3, 4, 5, 5, 5, 6]"
      ]
     },
     "execution_count": 3,
     "metadata": {},
     "output_type": "execute_result"
    }
   ],
   "source": [
    "arr = [2,4,5,1,2,5,1,5,3,6]\n",
    "rng = max(arr)\n",
    "countingSort(arr, rng)"
   ]
  }
 ],
 "metadata": {
  "kernelspec": {
   "display_name": "Python 3",
   "language": "python",
   "name": "python3"
  },
  "language_info": {
   "codemirror_mode": {
    "name": "ipython",
    "version": 3
   },
   "file_extension": ".py",
   "mimetype": "text/x-python",
   "name": "python",
   "nbconvert_exporter": "python",
   "pygments_lexer": "ipython3",
   "version": "3.6.5"
  }
 },
 "nbformat": 4,
 "nbformat_minor": 2
}
